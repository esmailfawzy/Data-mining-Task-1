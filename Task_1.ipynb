{
  "cells": [
    {
      "cell_type": "code",
      "execution_count": 1,
      "metadata": {
        "colab": {
          "base_uri": "https://localhost:8080/"
        },
        "id": "9dlJE_aVs-Pm",
        "outputId": "e017c4aa-9879-4d87-a69d-53538ac914f9"
      },
      "outputs": [
        {
          "name": "stdout",
          "output_type": "stream",
          "text": [
            "Requirement already satisfied: kaggle in /opt/homebrew/lib/python3.10/site-packages (1.6.17)\n",
            "Requirement already satisfied: pandas in /opt/homebrew/lib/python3.10/site-packages (2.2.2)\n",
            "Requirement already satisfied: scikit-learn in /opt/homebrew/lib/python3.10/site-packages (1.5.1)\n",
            "Requirement already satisfied: six>=1.10 in /Users/esmailfawzy/Library/Python/3.10/lib/python/site-packages (from kaggle) (1.16.0)\n",
            "Requirement already satisfied: certifi>=2023.7.22 in /opt/homebrew/lib/python3.10/site-packages (from kaggle) (2024.7.4)\n",
            "Requirement already satisfied: python-dateutil in /Users/esmailfawzy/Library/Python/3.10/lib/python/site-packages (from kaggle) (2.9.0.post0)\n",
            "Requirement already satisfied: requests in /opt/homebrew/lib/python3.10/site-packages (from kaggle) (2.32.3)\n",
            "Requirement already satisfied: tqdm in /opt/homebrew/lib/python3.10/site-packages (from kaggle) (4.66.5)\n",
            "Requirement already satisfied: python-slugify in /opt/homebrew/lib/python3.10/site-packages (from kaggle) (8.0.4)\n",
            "Requirement already satisfied: urllib3 in /opt/homebrew/lib/python3.10/site-packages (from kaggle) (2.2.2)\n",
            "Requirement already satisfied: bleach in /opt/homebrew/lib/python3.10/site-packages (from kaggle) (6.1.0)\n",
            "Requirement already satisfied: numpy>=1.22.4 in /opt/homebrew/lib/python3.10/site-packages (from pandas) (2.0.1)\n",
            "Requirement already satisfied: pytz>=2020.1 in /opt/homebrew/lib/python3.10/site-packages (from pandas) (2024.1)\n",
            "Requirement already satisfied: tzdata>=2022.7 in /opt/homebrew/lib/python3.10/site-packages (from pandas) (2024.1)\n",
            "Requirement already satisfied: scipy>=1.6.0 in /opt/homebrew/lib/python3.10/site-packages (from scikit-learn) (1.14.0)\n",
            "Requirement already satisfied: joblib>=1.2.0 in /opt/homebrew/lib/python3.10/site-packages (from scikit-learn) (1.4.2)\n",
            "Requirement already satisfied: threadpoolctl>=3.1.0 in /opt/homebrew/lib/python3.10/site-packages (from scikit-learn) (3.5.0)\n",
            "Requirement already satisfied: webencodings in /opt/homebrew/lib/python3.10/site-packages (from bleach->kaggle) (0.5.1)\n",
            "Requirement already satisfied: text-unidecode>=1.3 in /opt/homebrew/lib/python3.10/site-packages (from python-slugify->kaggle) (1.3)\n",
            "Requirement already satisfied: charset-normalizer<4,>=2 in /opt/homebrew/lib/python3.10/site-packages (from requests->kaggle) (3.3.2)\n",
            "Requirement already satisfied: idna<4,>=2.5 in /opt/homebrew/lib/python3.10/site-packages (from requests->kaggle) (3.7)\n",
            "\n",
            "\u001b[1m[\u001b[0m\u001b[34;49mnotice\u001b[0m\u001b[1;39;49m]\u001b[0m\u001b[39;49m A new release of pip is available: \u001b[0m\u001b[31;49m24.1.2\u001b[0m\u001b[39;49m -> \u001b[0m\u001b[32;49m24.2\u001b[0m\n",
            "\u001b[1m[\u001b[0m\u001b[34;49mnotice\u001b[0m\u001b[1;39;49m]\u001b[0m\u001b[39;49m To update, run: \u001b[0m\u001b[32;49mpython3.10 -m pip install --upgrade pip\u001b[0m\n",
            "Note: you may need to restart the kernel to use updated packages.\n"
          ]
        }
      ],
      "source": [
        "pip install kaggle pandas scikit-learn\n"
      ]
    },
    {
      "cell_type": "code",
      "execution_count": 2,
      "metadata": {
        "colab": {
          "base_uri": "https://localhost:8080/"
        },
        "id": "jzCgPXMf45YQ",
        "outputId": "00d07722-b2c0-4a09-a845-1f2f889b3372"
      },
      "outputs": [
        {
          "name": "stdout",
          "output_type": "stream",
          "text": [
            "Requirement already satisfied: kaggle in /opt/homebrew/lib/python3.11/site-packages (1.6.17)\n",
            "Requirement already satisfied: six>=1.10 in /opt/homebrew/lib/python3.11/site-packages (from kaggle) (1.16.0)\n",
            "Requirement already satisfied: certifi>=2023.7.22 in /opt/homebrew/lib/python3.11/site-packages (from kaggle) (2024.2.2)\n",
            "Requirement already satisfied: python-dateutil in /opt/homebrew/lib/python3.11/site-packages (from kaggle) (2.8.2)\n",
            "Requirement already satisfied: requests in /opt/homebrew/lib/python3.11/site-packages (from kaggle) (2.31.0)\n",
            "Requirement already satisfied: tqdm in /opt/homebrew/lib/python3.11/site-packages (from kaggle) (4.66.4)\n",
            "Requirement already satisfied: python-slugify in /opt/homebrew/lib/python3.11/site-packages (from kaggle) (8.0.4)\n",
            "Requirement already satisfied: urllib3 in /opt/homebrew/lib/python3.11/site-packages (from kaggle) (2.2.1)\n",
            "Requirement already satisfied: bleach in /opt/homebrew/lib/python3.11/site-packages (from kaggle) (6.1.0)\n",
            "Requirement already satisfied: webencodings in /opt/homebrew/lib/python3.11/site-packages (from bleach->kaggle) (0.5.1)\n",
            "Requirement already satisfied: text-unidecode>=1.3 in /opt/homebrew/lib/python3.11/site-packages (from python-slugify->kaggle) (1.3)\n",
            "Requirement already satisfied: charset-normalizer<4,>=2 in /opt/homebrew/lib/python3.11/site-packages (from requests->kaggle) (3.3.2)\n",
            "Requirement already satisfied: idna<4,>=2.5 in /opt/homebrew/lib/python3.11/site-packages (from requests->kaggle) (3.7)\n"
          ]
        }
      ],
      "source": [
        "import os\n",
        "import json\n",
        "\n",
        "# Move kaggle.json to ~/.kaggle\n",
        "!mkdir -p ~/.kaggle\n",
        "!cp kaggle.json ~/.kaggle/\n",
        "!chmod 600 ~/.kaggle/kaggle.json\n",
        "\n",
        "# Install kaggle package\n",
        "!pip install kaggle"
      ]
    },
    {
      "cell_type": "code",
      "execution_count": 3,
      "metadata": {
        "colab": {
          "base_uri": "https://localhost:8080/"
        },
        "id": "snLDOylh5ABf",
        "outputId": "c74f7e5e-3ba9-4dd0-a804-74b2779206de"
      },
      "outputs": [
        {
          "name": "stdout",
          "output_type": "stream",
          "text": [
            "Dataset URL: https://www.kaggle.com/datasets/heptapod/titanic\n"
          ]
        }
      ],
      "source": [
        "from kaggle.api.kaggle_api_extended import KaggleApi\n",
        "\n",
        "api = KaggleApi()\n",
        "api.authenticate()\n",
        "\n",
        "# Download the Titanic dataset\n",
        "dataset_name = 'heptapod/titanic'\n",
        "api.dataset_download_files(dataset_name, path='titanic', unzip=True)\n"
      ]
    },
    {
      "cell_type": "code",
      "execution_count": 4,
      "metadata": {
        "colab": {
          "base_uri": "https://localhost:8080/"
        },
        "id": "SlmludCX5Gu7",
        "outputId": "703d0c9c-6517-4ef9-ebbc-a28d5631c7e5"
      },
      "outputs": [
        {
          "name": "stdout",
          "output_type": "stream",
          "text": [
            "Initial Data Information:\n",
            "<class 'pandas.core.frame.DataFrame'>\n",
            "RangeIndex: 1309 entries, 0 to 1308\n",
            "Data columns (total 28 columns):\n",
            " #   Column       Non-Null Count  Dtype  \n",
            "---  ------       --------------  -----  \n",
            " 0   Passengerid  1309 non-null   int64  \n",
            " 1   Age          1309 non-null   float64\n",
            " 2   Fare         1309 non-null   float64\n",
            " 3   Sex          1309 non-null   int64  \n",
            " 4   sibsp        1309 non-null   int64  \n",
            " 5   zero         1309 non-null   int64  \n",
            " 6   zero.1       1309 non-null   int64  \n",
            " 7   zero.2       1309 non-null   int64  \n",
            " 8   zero.3       1309 non-null   int64  \n",
            " 9   zero.4       1309 non-null   int64  \n",
            " 10  zero.5       1309 non-null   int64  \n",
            " 11  zero.6       1309 non-null   int64  \n",
            " 12  Parch        1309 non-null   int64  \n",
            " 13  zero.7       1309 non-null   int64  \n",
            " 14  zero.8       1309 non-null   int64  \n",
            " 15  zero.9       1309 non-null   int64  \n",
            " 16  zero.10      1309 non-null   int64  \n",
            " 17  zero.11      1309 non-null   int64  \n",
            " 18  zero.12      1309 non-null   int64  \n",
            " 19  zero.13      1309 non-null   int64  \n",
            " 20  zero.14      1309 non-null   int64  \n",
            " 21  Pclass       1309 non-null   int64  \n",
            " 22  zero.15      1309 non-null   int64  \n",
            " 23  zero.16      1309 non-null   int64  \n",
            " 24  Embarked     1307 non-null   float64\n",
            " 25  zero.17      1309 non-null   int64  \n",
            " 26  zero.18      1309 non-null   int64  \n",
            " 27  2urvived     1309 non-null   int64  \n",
            "dtypes: float64(3), int64(25)\n",
            "memory usage: 286.5 KB\n",
            "None\n"
          ]
        }
      ],
      "source": [
        "import pandas as pd\n",
        "\n",
        "# Load the Titanic dataset\n",
        "df = pd.read_csv('train.csv')\n",
        "\n",
        "# Display initial data info\n",
        "print(\"Initial Data Information:\")\n",
        "print(df.info())"
      ]
    },
    {
      "cell_type": "code",
      "execution_count": 5,
      "metadata": {
        "id": "4ZgBscZJ5X7E"
      },
      "outputs": [],
      "source": [
        "from sklearn.impute import SimpleImputer\n",
        "from sklearn.preprocessing import StandardScaler, MinMaxScaler"
      ]
    },
    {
      "cell_type": "code",
      "execution_count": 6,
      "metadata": {
        "id": "aHzm41Pg5UeQ"
      },
      "outputs": [],
      "source": [
        "# Imputation\n",
        "imputer = SimpleImputer(strategy='mean')\n",
        "df_imputed = pd.DataFrame(imputer.fit_transform(df), columns=df.columns)\n"
      ]
    },
    {
      "cell_type": "code",
      "execution_count": 7,
      "metadata": {
        "id": "wxmmVaFF5iJx"
      },
      "outputs": [],
      "source": [
        "# Standardization\n",
        "scaler = StandardScaler()\n",
        "df_standardized = pd.DataFrame(scaler.fit_transform(df_imputed), columns=df.columns)"
      ]
    },
    {
      "cell_type": "code",
      "execution_count": 8,
      "metadata": {
        "id": "F2H0qBuV5lM1"
      },
      "outputs": [],
      "source": [
        "# Normalization\n",
        "normalizer = MinMaxScaler()\n",
        "df_normalized = pd.DataFrame(normalizer.fit_transform(df_standardized), columns=df.columns)"
      ]
    },
    {
      "cell_type": "code",
      "execution_count": 9,
      "metadata": {
        "colab": {
          "base_uri": "https://localhost:8080/"
        },
        "id": "M8jajlqd5o8a",
        "outputId": "e088a855-098e-4088-c4a2-2f6a07296656"
      },
      "outputs": [
        {
          "name": "stdout",
          "output_type": "stream",
          "text": [
            "\n",
            "Preprocessed Data Information:\n",
            "<class 'pandas.core.frame.DataFrame'>\n",
            "RangeIndex: 1309 entries, 0 to 1308\n",
            "Data columns (total 28 columns):\n",
            " #   Column       Non-Null Count  Dtype  \n",
            "---  ------       --------------  -----  \n",
            " 0   Passengerid  1309 non-null   float64\n",
            " 1   Age          1309 non-null   float64\n",
            " 2   Fare         1309 non-null   float64\n",
            " 3   Sex          1309 non-null   float64\n",
            " 4   sibsp        1309 non-null   float64\n",
            " 5   zero         1309 non-null   float64\n",
            " 6   zero.1       1309 non-null   float64\n",
            " 7   zero.2       1309 non-null   float64\n",
            " 8   zero.3       1309 non-null   float64\n",
            " 9   zero.4       1309 non-null   float64\n",
            " 10  zero.5       1309 non-null   float64\n",
            " 11  zero.6       1309 non-null   float64\n",
            " 12  Parch        1309 non-null   float64\n",
            " 13  zero.7       1309 non-null   float64\n",
            " 14  zero.8       1309 non-null   float64\n",
            " 15  zero.9       1309 non-null   float64\n",
            " 16  zero.10      1309 non-null   float64\n",
            " 17  zero.11      1309 non-null   float64\n",
            " 18  zero.12      1309 non-null   float64\n",
            " 19  zero.13      1309 non-null   float64\n",
            " 20  zero.14      1309 non-null   float64\n",
            " 21  Pclass       1309 non-null   float64\n",
            " 22  zero.15      1309 non-null   float64\n",
            " 23  zero.16      1309 non-null   float64\n",
            " 24  Embarked     1309 non-null   float64\n",
            " 25  zero.17      1309 non-null   float64\n",
            " 26  zero.18      1309 non-null   float64\n",
            " 27  2urvived     1309 non-null   float64\n",
            "dtypes: float64(28)\n",
            "memory usage: 286.5 KB\n",
            "None\n"
          ]
        }
      ],
      "source": [
        "# Display preprocessed data info\n",
        "print(\"\\nPreprocessed Data Information:\")\n",
        "print(df_normalized.info())"
      ]
    },
    {
      "cell_type": "code",
      "execution_count": 10,
      "metadata": {
        "colab": {
          "base_uri": "https://localhost:8080/"
        },
        "id": "Cxya0wDr5rpD",
        "outputId": "a0ec6377-286a-4f49-a5ca-2e44b5f6b541"
      },
      "outputs": [
        {
          "name": "stdout",
          "output_type": "stream",
          "text": [
            "\n",
            "Preprocessed data saved to 'preprocessed_data.csv'\n"
          ]
        }
      ],
      "source": [
        "\n",
        "# Save the preprocessed data\n",
        "df_normalized.to_csv('preprocessed_data.csv', index=False)\n",
        "\n",
        "print(\"\\nPreprocessed data saved to 'preprocessed_data.csv'\")"
      ]
    }
  ],
  "metadata": {
    "colab": {
      "provenance": []
    },
    "kernelspec": {
      "display_name": "Python 3",
      "name": "python3"
    },
    "language_info": {
      "codemirror_mode": {
        "name": "ipython",
        "version": 3
      },
      "file_extension": ".py",
      "mimetype": "text/x-python",
      "name": "python",
      "nbconvert_exporter": "python",
      "pygments_lexer": "ipython3",
      "version": "3.10.14"
    }
  },
  "nbformat": 4,
  "nbformat_minor": 0
}
